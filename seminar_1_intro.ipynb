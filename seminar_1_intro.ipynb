{
 "cells": [
  {
   "cell_type": "markdown",
   "metadata": {
    "id": "CHRCnUFGcrb-"
   },
   "source": [
    "# Первый семинар. Знакомство\n"
   ]
  }
]
}
